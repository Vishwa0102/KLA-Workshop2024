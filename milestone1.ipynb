{
 "cells": [
  {
   "cell_type": "code",
   "execution_count": null,
   "metadata": {},
   "outputs": [],
   "source": [
    "import math\n",
    "import numpy as np"
   ]
  },
  {
   "cell_type": "code",
   "execution_count": 108,
   "metadata": {},
   "outputs": [
    {
     "name": "stdout",
     "output_type": "stream",
     "text": [
      "[ 86.60254038  80.82903769  75.05553499  69.2820323   63.50852961\n",
      "  57.73502692  51.96152423  46.18802154  40.41451884  34.64101615\n",
      "  28.86751346  23.09401077  17.32050808  11.54700538   5.77350269\n",
      "   0.          -5.77350269 -11.54700538 -17.32050808 -23.09401077\n",
      " -28.86751346 -34.64101615 -40.41451884 -46.18802154 -51.96152423\n",
      " -57.73502692 -63.50852961 -69.2820323  -75.05553499 -80.82903769\n",
      " -86.60254038] [-50.     -46.6667 -43.3333 -40.     -36.6667 -33.3333 -30.     -26.6667\n",
      " -23.3333 -20.     -16.6667 -13.3333 -10.      -6.6667  -3.3333  -0.\n",
      "   3.3333   6.6667  10.      13.3333  16.6667  20.      23.3333  26.6667\n",
      "  30.      33.3333  36.6667  40.      43.3333  46.6667  50.    ]\n"
     ]
    }
   ],
   "source": [
    "f=open(r\"C:\\Users\\Admin\\Desktop\\kla dataset\\Milestone1\\Input\\Testcase4.txt\",\"r\")\n",
    "content=f.readlines()\n",
    "diameter=int(content[0][content[0].index(':')+1:].strip())\n",
    "num_points=int(content[1][content[1].index(':')+1:].strip())\n",
    "angle=int(content[2][content[2].index(':')+1:].strip())\n",
    "\n",
    "\n",
    "angle = math.radians(angle)\n",
    "m = math.tan(angle)\n",
    "r = diameter / 2\n",
    "\n",
    "def write(filepath,xpoints,ypoints):\n",
    "    fwrite=open(filepath,'w')\n",
    "    for i in range(len(xpoints)):\n",
    "        fwrite.write('('+str(xpoints[i])+','+str(ypoints[i])+')\\n')\n",
    "    fwrite.close()\n",
    "xpoints = np.linspace(-r*math.cos(angle), r*math.cos(angle) ,num=num_points)\n",
    "ypoints = xpoints * m\n",
    "\n",
    "ypoints = np.round(ypoints, 4)\n",
    "print(xpoints, ypoints)\n",
    "write(\"m2_testcase4.txt\", xpoints, ypoints)"
   ]
  },
  {
   "cell_type": "code",
   "execution_count": 104,
   "metadata": {},
   "outputs": [
    {
     "data": {
      "text/plain": [
       "4.933847111690487e-13"
      ]
     },
     "execution_count": 104,
     "metadata": {},
     "output_type": "execute_result"
    }
   ],
   "source": []
  },
  {
   "cell_type": "code",
   "execution_count": null,
   "metadata": {},
   "outputs": [],
   "source": []
  }
 ],
 "metadata": {
  "kernelspec": {
   "display_name": "Python 3",
   "language": "python",
   "name": "python3"
  },
  "language_info": {
   "codemirror_mode": {
    "name": "ipython",
    "version": 3
   },
   "file_extension": ".py",
   "mimetype": "text/x-python",
   "name": "python",
   "nbconvert_exporter": "python",
   "pygments_lexer": "ipython3",
   "version": "3.11.1"
  }
 },
 "nbformat": 4,
 "nbformat_minor": 2
}
